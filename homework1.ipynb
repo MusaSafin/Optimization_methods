{
  "nbformat": 4,
  "nbformat_minor": 0,
  "metadata": {
    "colab": {
      "name": "homework1.ipynb",
      "provenance": [],
      "collapsed_sections": []
    },
    "kernelspec": {
      "name": "python3",
      "display_name": "Python 3"
    },
    "language_info": {
      "name": "python"
    }
  },
  "cells": [
    {
      "cell_type": "markdown",
      "source": [
        "## Основные задачи"
      ],
      "metadata": {
        "id": "pTsI3ALvGBva"
      }
    },
    {
      "cell_type": "markdown",
      "source": [
        "### 1.Какие из следующих операций не сохраняют выпуклость, если $ X, Y \\subseteq \\mathbb{R}^n $выпуклые множества?\n"
      ],
      "metadata": {
        "id": "NYuznxnYGCZB"
      }
    },
    {
      "cell_type": "markdown",
      "source": [
        "#### a) $ X \\cup Y $ \n",
        "Пусть $ X = [0, 1] , Y = [2, 3] $ - отрезки в $\\mathbb{R}^{1}$. $X \\cup Y $  - не сохраняет выпуклость, т.к. $ (1, 2) \\notin X \\cup Y$, а точки 1 и 2 $\\in X \\cup Y$."
      ],
      "metadata": {
        "id": "r1XLW7kYpDzZ"
      }
    },
    {
      "cell_type": "markdown",
      "source": [
        "#### b) $ X \\times Y = \\left \\{ (x,y) | x \\in X, y \\in Y \\right \\}$\n",
        "Если $z_{1} = (x_{1}, y_{1}),x_{1} \\in X, y_{1} \\in Y$, и $ z_{2} = (x_{2}, y_{2}),x_{2} \\in X, y_{2} \\in Y $и $\\alpha \\in [0,1]$, то $$ \\alpha z_{1} + (1-\\alpha) z_{2} =  ((\\alpha x_{1} + (1 - \\alpha)x_{2}),(\\alpha y_{1} + (1 - \\alpha)y_{2})) = (a, b),$$ где $a \\in X, b \\in Y \\Rightarrow X \\times Y$ - сохраняет выпуклость. "
      ],
      "metadata": {
        "id": "5sg_FKp5qj3n"
      }
    },
    {
      "cell_type": "markdown",
      "source": [
        "#### c) $ \\alpha X + \\beta Y = \\left \\{ \\alpha x + \\beta y | x \\in X, y \\in Y, \\alpha, \\beta \\in \\mathbb{R} \\right \\} $\n",
        "\n",
        "Пусть $ Q = \\alpha X + \\beta Y, q_{1} = \\alpha x_{1} + \\beta y_{2}, q_{2} = \\alpha x_{2} + \\beta y_{2}$ и $ \\theta \\in [0, 1]$. Тогда:\n",
        "$$ \\theta q_{1} + (1 - \\theta) q_{2} = \\theta (\\alpha x_{1} + \\beta y_{1}) + (1 - \\theta)(\\alpha x_{2} + \\beta y_{2}) = \\alpha (\\theta x_{1} + (1 - \\theta) x_{2}) + \\beta (\\theta y_{1} + (1 - \\theta) y_{2}) = \\alpha x + \\beta x \\in Q,$$ где $x \\in X, y \\in Y \\Rightarrow \\alpha X + \\beta Y $ сохраняет выпуклость."
      ],
      "metadata": {
        "id": "KYOgz-iz4RVq"
      }
    },
    {
      "cell_type": "markdown",
      "source": [
        "#### d) $ \\alpha X = \\left \\{ \\alpha x | x \\in X, \\alpha \\in \\mathbb{R}_{-} \\right \\} $\n",
        "Пусть $Q = \\alpha X$, $x_{1}, x_{2} \\in X, \\theta \\in [0, 1], q_{1}, q_{2} \\in Q$\n",
        "$$ \\theta q_{1} + (1 - \\theta) q_{2} = \\theta \\alpha x_1 + (1 - \\theta) \\alpha x_2 = \\alpha(\\theta x_1 + (1-\\theta)x_2) \\in Q$$, $\\Rightarrow \\alpha X$- выпукло."
      ],
      "metadata": {
        "id": "sURVB8lIFz-g"
      }
    },
    {
      "cell_type": "markdown",
      "source": [
        "#### e) $ X^{c} = \\left \\{ x \\in \\mathbb{R}^{n}| x \\notin X \\right \\} $\n",
        "Пусть $X = (0, 1)$ - интервал в $\\mathbb{R}^{1}$, тогда $X^{c}$ - не выпуклое, т.к. точки из $(0, 1)$ не содержатся в множестве (а т. 0 и т. 1 содержатся)."
      ],
      "metadata": {
        "id": "GgP4pdGyTcGf"
      }
    },
    {
      "cell_type": "markdown",
      "source": [
        "### 2. Матрично-векторное дифференциирование\n"
      ],
      "metadata": {
        "id": "z5cWUaZjUq88"
      }
    },
    {
      "cell_type": "markdown",
      "source": [
        "#### 2.1 Посчитать $df(x)$ и $ \\nabla f(x) $ для функции $f(x) = log(x^{T}Ax)$.\n",
        "$$df = \\frac{1}{x^TAx} d(x^TAx) = \\frac{1}{x^TAx}(d(x^T)Ax + x^TAdx) = \\frac{1}{x^TAx}(x^TA^Tdx = x^TAdx) = \\frac{x^T(A + A^T)}{x^TAx}dx \\quad \\Rightarrow \\nabla f(x) = (df)^T = \\frac{(A + A^T)x}{x^TAx}$$\n"
      ],
      "metadata": {
        "id": "KpIczGTfrc5m"
      }
    },
    {
      "cell_type": "markdown",
      "source": [
        "#### 2.2 Посчитать $df(x), d^2f(x)$ и $ \\nabla f(x), \\nabla^2 f(x) $ для функции $f(x) = \\frac{1}{p}\\|x\\|_{2}^{p}, p > 1$.\n",
        "\n",
        "$$df = \\frac{1}{2}(x^Tx)^{\\frac{p}{2}-1}(d(x^T)x + x^Tdx)=(x^Tx)^{\\frac{p}{2}-1}x^Tdx = \\|x\\|_{2}^{p-2}x^Tdx, \\quad \\nabla f(x) = \\|x\\|_{2}^{p-2}x$$\n",
        "\n",
        "$$ d f^2 = d(\\|x\\|_{2}^{p-2}x^Tdx_{1})= d(\\|x\\|_{2}^{p-2})x^Tdx_{1} + |x\\|_{2}^{p-2}d(x^Tdx_{1})= dx_{1}^Txd(\\|x\\|_{2}^{p-2}) + \\|x\\|_{2}^{p-2}d(x^Tdx_{1})^T$$\n",
        "\n",
        "$ d(\\|x\\|_{2}^{p-2}) = d(\\|x\\|_{2}^{p-2})^T, d(x^Tdx_{1}) = d(x^Tdx_{1})^T $, т.к под дифференциалами скаляры.\n",
        "\n",
        "$$ d(\\|x\\|_{2}^{p-2}) = \\frac{p-2}{2}(x^Tx)^{\\frac{p}{2}-2}d(x^Tx)= x^T(p-2)\\|x\\|_{2}^{p-4}dx$$\n",
        "\n",
        "$$ d(x^Tdx_{1})^T = dx_{1}^Tdx $$\n",
        "$$ df^2 = dx_{1}^T((p-2)\\|x\\|_{2}^{p-4}xx^T+I\\|x\\|_{2}^{p-2})dx, \\quad \\nabla f^2 = (p-2)\\|x\\|_{2}^{p-4}xx^T + I\\|x\\|_{2}^{p-2}$$\n"
      ],
      "metadata": {
        "id": "-1IwY6V-uC9M"
      }
    },
    {
      "cell_type": "markdown",
      "source": [
        "#### 2.3 Посчитать гессиан $ f(x) = \\frac{1}{n} \\sum_{i=1}^{n}log(1 + e^{a_{i}^{T}x}) + \\frac{\\mu}{2}\\|x\\|_{2}^{2} $\n",
        "Пусть $ f_1= \\sum_{i=1}^{n}log(1 + e^{a_{i}^{T}x})$, $f_2 = \\frac{\\mu}{2}\\|x\\|_{2}^{2}$\n",
        "$$df_2 = \\mu x^Tdx \\Rightarrow d^2f_2=dx_1^T \\mu dx$$\n",
        "\n",
        "$$ df_1 = \\frac{1}{n} \\sum_{i=1}^{n}\\frac{1}{1+e^{a_{i}^{T}x}}e^{a_{i}^{T}x}{a_{i}^{T}}dx \\Rightarrow d^2f_1 = \\frac{1}{n}\\sum_{i=1}^{n}d(\\frac{1}{1+e^{a_{i}^{T}x}})e^{a_{i}^{T}x}{a_{i}^{T}}dx_1 + \\frac{1}{1+e^{a_{i}^{T}x}}d(e^{a_{i}^{T}x}{a_{i}^{T}}dx_1) = \\frac{1}{n}\\sum_{i=1}^{n}(-\\frac{1}{(1+e^{a_{i}^{T}x})^{2}}) e^{a_{i}^{T}x}a_{i}^{T}d(x) e^{a_{i}^{T}x}{a_{i}^{T}}dx_1 + \\frac{1}{1+e^{a_{i}^{T}x}}e^{a_{i}^{T}x}dx_1^Ta_ia_i^Tdx = \\frac{1}{n}\\sum_{i=1}^{n}(-\\frac{e^{2a_{i}^{T}x}}{(1+e^{a_{i}^{T}x})^{2}})dx_1^Ta_ia_i^Tdx + \\frac{e^{a_{i}^{T}x}}{1+e^{a_{i}^{T}x}}dx_1^Ta_ia_i^Tdx = dx_1^T \\frac{1}{n} \\sum_{i=1}^{n} (-\\frac{(e^{a_i^Tx})^2}{(1+e^{a_{i}^{T}x})^{2}} + \\frac{e^{a_i^Tx}}{1+e^{a_{i}^{T}x}})a_ia_i^Tdx$$\n",
        "\n",
        "$$ \\Rightarrow \\nabla^2 f = \\frac{1}{n} \\sum_{i=1}^{n}(-\\frac{(e^{a_i^Tx})^2}{(1+e^{a_{i}^{T}x})^{2}}a_ia_i^T + \\frac{e^{a_i^Tx}}{1+e^{a_{i}^{T}x}}a_ia_i^T ) + \\mu I $$"
      ],
      "metadata": {
        "id": "ZrFNTRRdSrx6"
      }
    },
    {
      "cell_type": "markdown",
      "source": [
        "### 3. Доказать выпуклость функций"
      ],
      "metadata": {
        "id": "xyPdlf7c4sfS"
      }
    },
    {
      "cell_type": "markdown",
      "source": [
        "#### a) $f(x) = \\sum_{i=1}^{n}e^{x_{i}}$\n",
        "\n",
        "$ \\nabla f = e^{x_{i}} \\circ  e^{x_{i}} $, где $\\circ$ - произведение Адамара. $\\Rightarrow \\nabla^2f=diag(2e^{2x_i}) \\succeq 0 \\Rightarrow f$ - выпукла по диф. критерию 2-го порядка"
      ],
      "metadata": {
        "id": "64uOYdWy4yUU"
      }
    },
    {
      "cell_type": "markdown",
      "source": [
        "#### e) $f(x) = \\sum_{i=1}^{n}w_i \\ln(1 + e^{a_i^Tx}) + \\frac{\\mu}{2} \\|x\\|_2^2,$  $\\mu,w_1, \\dots, w_n > 0,$  $a_i \\in \\mathbb{R}^n$ \n",
        "Докажем выпуклость $g = \\ln(1 + e^{a_i^Tx})$ дифф. критерием 2-го порядка. \\\\\n",
        "$\\nabla^2 g = \\frac{e^{a_i^Tx}}{(1 + e^{a_i^Tx})^2}  a_ia_i^T$ - положительно определенная матрица $\\Rightarrow g$ - выпукла. Положительно взвешенная сумма выпуклых - выпукла, $\\frac{\\mu}{2} \\|x\\|_2^2$ - сильно выпукла, $\\Rightarrow f$ - сильно выпукла, как сумма выпуклой и сильно выпуклой."
      ],
      "metadata": {
        "id": "fr2GfdtDY9HV"
      }
    },
    {
      "cell_type": "markdown",
      "source": [
        "#### f) $f(x) = \\ln \\sum_{i=1}^{n}e^{\\max \\{0, x_i \\}^2}$\n",
        "Докажем выпуклость $g(x) = \\ln \\sum_{i=1}^{n}e^{x_i}$, воспользуемся неравенством Гёльдера. Пусть $x = \\theta x^{(1)} + (1-\\theta)x^{(2)}$ Тогда:\n",
        "\n",
        "$$ g(x) = \\ln \\sum_{i=1}^{n} e^{ x^{(1)}_i + (1-\\theta)x^{(2)}_i } = \\ln \\sum_{i=1}^{n} e^{\\theta x^{(1)}_i }e^{(1-\\theta)x^{(2)}_i} = ln \\sum_{i=1}^{n} |e^{\\theta x^{(1)}_i }| |e^{(1-\\theta)x^{(2)}_i}| \\leq \\\\ \\leq \\ln ( \\sum_{i=1}^{n}(e^{\\theta x^{(1)}_i})^{\\frac{1}{\\theta}})^\\theta (\\sum_{i=1}^{n} (e^{(1-\\theta) x_i^{(2)}})^{\\frac{1}{1-\\theta}})^{1-\\theta} = \\theta \\ln \\sum_{i=1}^{n} e^{x_i^{(1)}} + (1 - \\theta) \\ln \\sum_{i=1}^{n} e^{x_i^{(2)}}$$\n",
        "Функция $\\max \\{0,x_i\\}$ - выпуклая, как поточечный максимум 2-х выпуклых функций. Функция $x^2$ - выпукла по определению, $ \\Rightarrow f(x)$ - выпукла, как композиция выпуклых функций. "
      ],
      "metadata": {
        "id": "FhpFWZDNmn2-"
      }
    },
    {
      "cell_type": "markdown",
      "source": [
        "### 4. Найти субдифференциал $f(x) = |c^Tx| $\n",
        "По теореме Дубовицкого-Милютина: $$  \\partial f = \\partial(max\\left \\{ c^Tx, -c^Tx \\right \\}) = \\begin{cases}\n",
        "-c & \\text{ if } c^Tx < 0 \\\\ \n",
        "\\mathbf{conv}(-c;c) & \\text{ if } c^Tx=0 \\\\ \n",
        "c & \\text{ if } c^Tx>0 \n",
        "\\end{cases} $$\n",
        ",где $\\mathbf{conv}$ - выпуклая оолочка множества."
      ],
      "metadata": {
        "id": "uyPsA0s_YSCn"
      }
    },
    {
      "cell_type": "markdown",
      "source": [
        "### 5. Найти субдифференциал $f(x) = \\|x\\|_1, x \\in \\mathbb{R}^n$\n",
        "$\\|x\\|_1 = \\sum_{1}^{n} |x_i| = \\sum_{1}^{n} s_i x_i$, где $s_i = \\left \\{ -1,1 \\right \\}$. Пусть $g=s^Tx$ - поточечный максимум линейных функций по $x$. По т. Дубовицкого-Милютина: $$\\partial f = \\mathbf{conv}(\\bigcup_{i \\in I(x_0)}\\partial g_i(x))$$\n",
        "$$ \\partial g(x) = \\partial (\\max \\left \\{ s^Tx, -s^Tx \\right \\}) = \\begin{cases}\n",
        "-s & \\text{ if } s^Tx < 0 \\\\ \n",
        "\\mathbf{conv} (-s;s) & \\text{ if } s^Tx=0 \\\\ \n",
        "s & \\text{ if } s^Tx>0 \n",
        "\\end{cases} $$\n",
        "Если $j$ - я координата точки отрицательна, то $s_i^{(j)} = -1$. \\\\\n",
        "Если $j$ - я координата точки положительна, то $s_i^{(j)} = 1$. \\\\\n",
        "Если $j$ - я координата точки равна 0, то включаем субградиенты функций в объединение.\n",
        "$$ \\partial f(x) = \\left \\{ g\\: : \\: \\|g\\|_{∞} \\leq 1, \\: g^Tx = \\|x\\|_1 \\right \\} $$"
      ],
      "metadata": {
        "id": "R-mxJOAgEcQ1"
      }
    },
    {
      "cell_type": "markdown",
      "source": [
        "### 6. Определите константы $\\mu$-выпуклости и $L$-гладкости для $f(x) = \\|x \\|_2^2$.\n",
        "$\\nabla f = 2x$. Найдем ограничение на $\\mu$ по определению:\n",
        "$$ y^Ty \\geq x^T x + 2 x^T (y - x) + \\frac{\\mu}{2} \\|y-x \\|^2_2 \\\\\n",
        "\\mu \\leq 2 \\frac{y^Ty +x^Tx - 2x^Ty}{\\|y-x \\|^2_2} = 2$$\n",
        "Найдем ограничение на $L$ по определению:\n",
        "$$ \n",
        "\\| 2x-2y \\|_2 \\leq L \\| x-y \\|_2 \\\\\n",
        " \\sqrt{(2x-2y)^T(2x-2y)} \\leq L \\sqrt{(x-y)^T(x-y)} \\\\\n",
        "L \\geq 2 \\sqrt\\frac{\\| x-y \\|_2}{\\| x-y \\|_2} = 2\n",
        "$$"
      ],
      "metadata": {
        "id": "w3B50haqvyFg"
      }
    },
    {
      "cell_type": "markdown",
      "source": [
        "## Дополнительные задачи"
      ],
      "metadata": {
        "id": "WD2xPPi5hyH4"
      }
    },
    {
      "cell_type": "markdown",
      "source": [
        "### 3. Посчитайте судифференциал $f(x) = \\sin x $ на множжестве $X = [0, \\frac{3}{2}\\pi]$\n",
        "$$ \\partial f(x) =  \n",
        "\\begin{cases}\n",
        "(-\\infty, \\cos x_0] & \\text{ if } x= 0\\\\ \n",
        "\\varnothing & \\text{ if } x \\in (0, x_0)\\\\ \n",
        "\\cos x_0 & \\text{ if } x \\in [x_0, \\frac{3}{2}\\pi] \\\\ \n",
        "[0, + ∞) & \\text{ if } x= \\frac{3}{2}\\pi\n",
        "\\end{cases}$$\n",
        ", где $x_0 \\approx 4.493 $"
      ],
      "metadata": {
        "id": "gXSEgr35JkZN"
      }
    },
    {
      "cell_type": "markdown",
      "source": [
        "### 4. Найти субдифференциал $f(x) = max\\left \\{ e^x, 1-x \\right \\}, x \\in \\mathbb{R}$\n",
        "По теореме Дубовицкого-Милютина: $$ \\partial f = \\begin{cases}\n",
        "-1 & \\text{ if } x < 0 \\\\ \n",
        "e^x & \\text{ if } x>0 \\\\ \n",
        "[-1;e^x] & \\text{ if } x=0 \n",
        "\\end{cases} $$"
      ],
      "metadata": {
        "id": "JCfFPLW_YSFN"
      }
    },
    {
      "cell_type": "markdown",
      "source": [
        "Доказать выпуклость функций:\n",
        "$$ 1) \\  \\frac{\\| Ax-b \\|^2}{1-x^Tx}, \\ X = \\{ x \\ |\\ \\| x \\|^2 < 1\\} $$, X - множество, на котором нужно доказать выпуклость.\n",
        "\n",
        "$$ 2) \\ F(x) = \\frac{f^2(x)}{g(x)} $$, где f(x) и g(x) - дважжды непрерывно дифференциируемы, f(x) - выпуклая и положжительная, g(x) - вогнута и положительна.\n",
        "\n",
        "$$ 3) \\ f(x,t) = - log(t^2 - x^Tx), \\ E = \\{(x,t) \\in \\mathbb{R}^{n\\times 1} \\ \\|x \\|_2 < t \\} $$, где E - область определения.\n",
        "\n",
        "4) Показать, что f выпукла на D:\n",
        "$$ \\ T(x,w)= \\sum_{i=1}^{n}x_i\\cos((i-1)w) \\\\ f(x)= -\\int_{0}^{2 \\pi}\\log T(x,w)dw \\\\ D = \\{ \n",
        "x \\in \\mathbb{R}^n \\ | \\ T(x,w) > 0, \\ 0 \\leq w \\leq 2 \\pi \\}$$\n",
        "\n",
        "5) Показать, что f вогнута\n",
        "$$ 4) f(x) =  (\\sum_{i=1}^{n}x^p_i)^{\\frac{1}{p}}, \\ p <1, \\ p \\neq 0, \\ dom f = \\mathbb{R}^n_{++} $$, \n"
      ],
      "metadata": {
        "id": "CQ-Y6CQxFQBQ"
      }
    },
    {
      "cell_type": "code",
      "source": [
        ""
      ],
      "metadata": {
        "id": "ABoUnmg8FQTe"
      },
      "execution_count": null,
      "outputs": []
    }
  ]
}